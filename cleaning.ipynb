{
 "cells": [
  {
   "cell_type": "markdown",
   "metadata": {},
   "source": [
    "# Imports"
   ]
  },
  {
   "cell_type": "code",
   "execution_count": 1,
   "metadata": {},
   "outputs": [],
   "source": [
    "import pandas as pd\n",
    "import jdatetime"
   ]
  },
  {
   "cell_type": "markdown",
   "metadata": {},
   "source": [
    "# Reading the `law.csv` file"
   ]
  },
  {
   "cell_type": "code",
   "execution_count": 3,
   "metadata": {},
   "outputs": [],
   "source": [
    "df = pd.read_csv('./crawl/law.csv')"
   ]
  },
  {
   "cell_type": "code",
   "execution_count": 4,
   "metadata": {},
   "outputs": [
    {
     "data": {
      "text/html": [
       "<div>\n",
       "<style scoped>\n",
       "    .dataframe tbody tr th:only-of-type {\n",
       "        vertical-align: middle;\n",
       "    }\n",
       "\n",
       "    .dataframe tbody tr th {\n",
       "        vertical-align: top;\n",
       "    }\n",
       "\n",
       "    .dataframe thead th {\n",
       "        text-align: right;\n",
       "    }\n",
       "</style>\n",
       "<table border=\"1\" class=\"dataframe\">\n",
       "  <thead>\n",
       "    <tr style=\"text-align: right;\">\n",
       "      <th></th>\n",
       "      <th>title</th>\n",
       "      <th>date</th>\n",
       "      <th>reference</th>\n",
       "      <th>content</th>\n",
       "      <th>url</th>\n",
       "    </tr>\n",
       "  </thead>\n",
       "  <tbody>\n",
       "    <tr>\n",
       "      <th>0</th>\n",
       "      <td>\\n                رای شماره ۲۷۶۵۷۹۹ هیأت تخصصی...</td>\n",
       "      <td>۱۴۰۲/۱۲/۲۴</td>\n",
       "      <td>هیات های تخصصی دیوان عدالت اداری</td>\n",
       "      <td>\"هیأت تخصصی مالیاتی، بانکی * شماره پرونده:  هـ...</td>\n",
       "      <td>https://rc.majlis.ir/fa/law/show/1800146</td>\n",
       "    </tr>\n",
       "    <tr>\n",
       "      <th>1</th>\n",
       "      <td>\\n                رای شماره ۲۶۴۹۵۷۶ هیأت تخصصی...</td>\n",
       "      <td>۱۴۰۲/۱۲/۲۴</td>\n",
       "      <td>هیات های تخصصی دیوان عدالت اداری</td>\n",
       "      <td>\"هیأت تخصصی مالیاتی، بانکی * شماره پرونده:  هـ...</td>\n",
       "      <td>https://rc.majlis.ir/fa/law/show/1800156</td>\n",
       "    </tr>\n",
       "    <tr>\n",
       "      <th>2</th>\n",
       "      <td>\\n                رأی شماره ۲۷۲۷۷۱۹هیأت عمومی ...</td>\n",
       "      <td>۱۴۰۲/۱۲/۲۶</td>\n",
       "      <td>مصوبات هیات عمومی دیوان عدالت اداری</td>\n",
       "      <td>\"شماره۰۱۰۷۴۶۰                                 ...</td>\n",
       "      <td>https://rc.majlis.ir/fa/law/show/1800173</td>\n",
       "    </tr>\n",
       "    <tr>\n",
       "      <th>3</th>\n",
       "      <td>\\n                الحاق تبصره به ماده(۶) آیین ...</td>\n",
       "      <td>۱۴۰۲/۱۲/۲۷</td>\n",
       "      <td>مصوبات هیات وزیران</td>\n",
       "      <td>\"شماره ۲۱۳۶۶۴/ت۶۲۰۹۷هـ                        ...</td>\n",
       "      <td>https://rc.majlis.ir/fa/law/show/1800183</td>\n",
       "    </tr>\n",
       "    <tr>\n",
       "      <th>4</th>\n",
       "      <td>\\n                مصوبه شورای عالی شهرسازی و م...</td>\n",
       "      <td>۱۴۰۲/۱۲/۲۷</td>\n",
       "      <td>مصوبات شورای عالی شهرسازی و معماری ایران</td>\n",
       "      <td>\"شماره ۲۰۷۴۶۱/۳۰۰                             ...</td>\n",
       "      <td>https://rc.majlis.ir/fa/law/show/1800222</td>\n",
       "    </tr>\n",
       "  </tbody>\n",
       "</table>\n",
       "</div>"
      ],
      "text/plain": [
       "                                               title        date  \\\n",
       "0  \\n                رای شماره ۲۷۶۵۷۹۹ هیأت تخصصی...  ۱۴۰۲/۱۲/۲۴   \n",
       "1  \\n                رای شماره ۲۶۴۹۵۷۶ هیأت تخصصی...  ۱۴۰۲/۱۲/۲۴   \n",
       "2  \\n                رأی شماره ۲۷۲۷۷۱۹هیأت عمومی ...  ۱۴۰۲/۱۲/۲۶   \n",
       "3  \\n                الحاق تبصره به ماده(۶) آیین ...  ۱۴۰۲/۱۲/۲۷   \n",
       "4  \\n                مصوبه شورای عالی شهرسازی و م...  ۱۴۰۲/۱۲/۲۷   \n",
       "\n",
       "                                  reference  \\\n",
       "0          هیات های تخصصی دیوان عدالت اداری   \n",
       "1          هیات های تخصصی دیوان عدالت اداری   \n",
       "2       مصوبات هیات عمومی دیوان عدالت اداری   \n",
       "3                        مصوبات هیات وزیران   \n",
       "4  مصوبات شورای عالی شهرسازی و معماری ایران   \n",
       "\n",
       "                                             content  \\\n",
       "0  \"هیأت تخصصی مالیاتی، بانکی * شماره پرونده:  هـ...   \n",
       "1  \"هیأت تخصصی مالیاتی، بانکی * شماره پرونده:  هـ...   \n",
       "2  \"شماره۰۱۰۷۴۶۰                                 ...   \n",
       "3  \"شماره ۲۱۳۶۶۴/ت۶۲۰۹۷هـ                        ...   \n",
       "4  \"شماره ۲۰۷۴۶۱/۳۰۰                             ...   \n",
       "\n",
       "                                        url  \n",
       "0  https://rc.majlis.ir/fa/law/show/1800146  \n",
       "1  https://rc.majlis.ir/fa/law/show/1800156  \n",
       "2  https://rc.majlis.ir/fa/law/show/1800173  \n",
       "3  https://rc.majlis.ir/fa/law/show/1800183  \n",
       "4  https://rc.majlis.ir/fa/law/show/1800222  "
      ]
     },
     "execution_count": 4,
     "metadata": {},
     "output_type": "execute_result"
    }
   ],
   "source": [
    "df.head()"
   ]
  },
  {
   "cell_type": "markdown",
   "metadata": {},
   "source": [
    "# Basic Cleaning"
   ]
  },
  {
   "cell_type": "markdown",
   "metadata": {},
   "source": [
    "## 1. Change the `date` column to datetime format"
   ]
  },
  {
   "cell_type": "code",
   "execution_count": 5,
   "metadata": {},
   "outputs": [],
   "source": [
    "df['date'] = df['date'].apply(lambda x: jdatetime.datetime.strptime(x, '%Y/%m/%d').togregorian().date())"
   ]
  },
  {
   "cell_type": "code",
   "execution_count": 6,
   "metadata": {},
   "outputs": [],
   "source": [
    "df['date'] = pd.to_datetime(df['date'])"
   ]
  },
  {
   "cell_type": "markdown",
   "metadata": {},
   "source": [
    "## 2. `strip` the `title` and `content` columns"
   ]
  },
  {
   "cell_type": "code",
   "execution_count": 7,
   "metadata": {},
   "outputs": [],
   "source": [
    "df['title'] = df['title'].apply(lambda x: x.strip())"
   ]
  },
  {
   "cell_type": "code",
   "execution_count": 8,
   "metadata": {},
   "outputs": [],
   "source": [
    "df['content'] = df['content'].apply(lambda x: x[1:-1].strip() if x.startswith('\"') else x.strip())"
   ]
  },
  {
   "cell_type": "code",
   "execution_count": 9,
   "metadata": {},
   "outputs": [
    {
     "data": {
      "text/html": [
       "<div>\n",
       "<style scoped>\n",
       "    .dataframe tbody tr th:only-of-type {\n",
       "        vertical-align: middle;\n",
       "    }\n",
       "\n",
       "    .dataframe tbody tr th {\n",
       "        vertical-align: top;\n",
       "    }\n",
       "\n",
       "    .dataframe thead th {\n",
       "        text-align: right;\n",
       "    }\n",
       "</style>\n",
       "<table border=\"1\" class=\"dataframe\">\n",
       "  <thead>\n",
       "    <tr style=\"text-align: right;\">\n",
       "      <th></th>\n",
       "      <th>title</th>\n",
       "      <th>date</th>\n",
       "      <th>reference</th>\n",
       "      <th>content</th>\n",
       "      <th>url</th>\n",
       "    </tr>\n",
       "  </thead>\n",
       "  <tbody>\n",
       "    <tr>\n",
       "      <th>0</th>\n",
       "      <td>رای شماره ۲۷۶۵۷۹۹ هیأت تخصصی مالیاتی، بانکی دی...</td>\n",
       "      <td>2024-03-14</td>\n",
       "      <td>هیات های تخصصی دیوان عدالت اداری</td>\n",
       "      <td>هیأت تخصصی مالیاتی، بانکی * شماره پرونده:  هـ ...</td>\n",
       "      <td>https://rc.majlis.ir/fa/law/show/1800146</td>\n",
       "    </tr>\n",
       "    <tr>\n",
       "      <th>1</th>\n",
       "      <td>رای شماره ۲۶۴۹۵۷۶ هیأت تخصصی مالیاتی، بانکی دی...</td>\n",
       "      <td>2024-03-14</td>\n",
       "      <td>هیات های تخصصی دیوان عدالت اداری</td>\n",
       "      <td>هیأت تخصصی مالیاتی، بانکی * شماره پرونده:  هـ ...</td>\n",
       "      <td>https://rc.majlis.ir/fa/law/show/1800156</td>\n",
       "    </tr>\n",
       "    <tr>\n",
       "      <th>2</th>\n",
       "      <td>رأی شماره ۲۷۲۷۷۱۹هیأت عمومی دیوان عدالت اداری ...</td>\n",
       "      <td>2024-03-16</td>\n",
       "      <td>مصوبات هیات عمومی دیوان عدالت اداری</td>\n",
       "      <td>شماره۰۱۰۷۴۶۰                                  ...</td>\n",
       "      <td>https://rc.majlis.ir/fa/law/show/1800173</td>\n",
       "    </tr>\n",
       "    <tr>\n",
       "      <th>3</th>\n",
       "      <td>الحاق تبصره به ماده(۶) آیین نامه اجرایی قانون ...</td>\n",
       "      <td>2024-03-17</td>\n",
       "      <td>مصوبات هیات وزیران</td>\n",
       "      <td>شماره ۲۱۳۶۶۴/ت۶۲۰۹۷هـ                         ...</td>\n",
       "      <td>https://rc.majlis.ir/fa/law/show/1800183</td>\n",
       "    </tr>\n",
       "    <tr>\n",
       "      <th>4</th>\n",
       "      <td>مصوبه شورای عالی شهرسازی و معماری ایران در خصو...</td>\n",
       "      <td>2024-03-17</td>\n",
       "      <td>مصوبات شورای عالی شهرسازی و معماری ایران</td>\n",
       "      <td>شماره ۲۰۷۴۶۱/۳۰۰                              ...</td>\n",
       "      <td>https://rc.majlis.ir/fa/law/show/1800222</td>\n",
       "    </tr>\n",
       "  </tbody>\n",
       "</table>\n",
       "</div>"
      ],
      "text/plain": [
       "                                               title       date  \\\n",
       "0  رای شماره ۲۷۶۵۷۹۹ هیأت تخصصی مالیاتی، بانکی دی... 2024-03-14   \n",
       "1  رای شماره ۲۶۴۹۵۷۶ هیأت تخصصی مالیاتی، بانکی دی... 2024-03-14   \n",
       "2  رأی شماره ۲۷۲۷۷۱۹هیأت عمومی دیوان عدالت اداری ... 2024-03-16   \n",
       "3  الحاق تبصره به ماده(۶) آیین نامه اجرایی قانون ... 2024-03-17   \n",
       "4  مصوبه شورای عالی شهرسازی و معماری ایران در خصو... 2024-03-17   \n",
       "\n",
       "                                  reference  \\\n",
       "0          هیات های تخصصی دیوان عدالت اداری   \n",
       "1          هیات های تخصصی دیوان عدالت اداری   \n",
       "2       مصوبات هیات عمومی دیوان عدالت اداری   \n",
       "3                        مصوبات هیات وزیران   \n",
       "4  مصوبات شورای عالی شهرسازی و معماری ایران   \n",
       "\n",
       "                                             content  \\\n",
       "0  هیأت تخصصی مالیاتی، بانکی * شماره پرونده:  هـ ...   \n",
       "1  هیأت تخصصی مالیاتی، بانکی * شماره پرونده:  هـ ...   \n",
       "2  شماره۰۱۰۷۴۶۰                                  ...   \n",
       "3  شماره ۲۱۳۶۶۴/ت۶۲۰۹۷هـ                         ...   \n",
       "4  شماره ۲۰۷۴۶۱/۳۰۰                              ...   \n",
       "\n",
       "                                        url  \n",
       "0  https://rc.majlis.ir/fa/law/show/1800146  \n",
       "1  https://rc.majlis.ir/fa/law/show/1800156  \n",
       "2  https://rc.majlis.ir/fa/law/show/1800173  \n",
       "3  https://rc.majlis.ir/fa/law/show/1800183  \n",
       "4  https://rc.majlis.ir/fa/law/show/1800222  "
      ]
     },
     "execution_count": 9,
     "metadata": {},
     "output_type": "execute_result"
    }
   ],
   "source": [
    "df.head()"
   ]
  },
  {
   "cell_type": "markdown",
   "metadata": {},
   "source": [
    "# Exporting the cleaned data"
   ]
  },
  {
   "cell_type": "code",
   "execution_count": 10,
   "metadata": {},
   "outputs": [],
   "source": [
    "df.to_csv('./law_cleaned.csv', index=False)"
   ]
  }
 ],
 "metadata": {
  "kernelspec": {
   "display_name": "llm-legal",
   "language": "python",
   "name": "python3"
  },
  "language_info": {
   "codemirror_mode": {
    "name": "ipython",
    "version": 3
   },
   "file_extension": ".py",
   "mimetype": "text/x-python",
   "name": "python",
   "nbconvert_exporter": "python",
   "pygments_lexer": "ipython3",
   "version": "3.8.18"
  }
 },
 "nbformat": 4,
 "nbformat_minor": 2
}
